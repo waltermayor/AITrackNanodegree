{
  "nbformat": 4,
  "nbformat_minor": 0,
  "metadata": {
    "kernelspec": {
      "display_name": "Python 3",
      "language": "python",
      "name": "python3"
    },
    "language_info": {
      "codemirror_mode": {
        "name": "ipython",
        "version": 3
      },
      "file_extension": ".py",
      "mimetype": "text/x-python",
      "name": "python",
      "nbconvert_exporter": "python",
      "pygments_lexer": "ipython3",
      "version": "3.6.6"
    },
    "colab": {
      "name": "Part 5 - Inference and Validation (Exercises).ipynb",
      "provenance": [],
      "include_colab_link": true
    }
  },
  "cells": [
    {
      "cell_type": "markdown",
      "metadata": {
        "id": "view-in-github",
        "colab_type": "text"
      },
      "source": [
        "<a href=\"https://colab.research.google.com/github/waltermayor/AITrackNanodegree/blob/master/Lesson5/Part_5_Inference_and_Validation.ipynb\" target=\"_parent\"><img src=\"https://colab.research.google.com/assets/colab-badge.svg\" alt=\"Open In Colab\"/></a>"
      ]
    },
    {
      "cell_type": "markdown",
      "metadata": {
        "id": "iOA7riWXGt0B",
        "colab_type": "text"
      },
      "source": [
        "# Inference and Validation\n",
        "\n",
        "Now that you have a trained network, you can use it for making predictions. This is typically called **inference**, a term borrowed from statistics. However, neural networks have a tendency to perform *too well* on the training data and aren't able to generalize to data that hasn't been seen before. This is called **overfitting** and it impairs inference performance. To test for overfitting while training, we measure the performance on data not in the training set called the **validation** set. We avoid overfitting through regularization such as dropout while monitoring the validation performance during training. In this notebook, I'll show you how to do this in PyTorch. \n",
        "\n",
        "As usual, let's start by loading the dataset through torchvision. You'll learn more about torchvision and loading data in a later part. This time we'll be taking advantage of the test set which you can get by setting `train=False` here:\n",
        "\n",
        "```python\n",
        "testset = datasets.FashionMNIST('~/.pytorch/F_MNIST_data/', download=True, train=False, transform=transform)\n",
        "```\n",
        "\n",
        "The test set contains images just like the training set. Typically you'll see 10-20% of the original dataset held out for testing and validation with the rest being used for training."
      ]
    },
    {
      "cell_type": "code",
      "metadata": {
        "id": "Xf18LtHFGt0H",
        "colab_type": "code",
        "outputId": "9e81d9ec-cf60-4a95-9f24-d1542ab40381",
        "colab": {
          "base_uri": "https://localhost:8080/",
          "height": 139
        }
      },
      "source": [
        "import torch\n",
        "from torchvision import datasets, transforms\n",
        "\n",
        "!wget -c https://raw.githubusercontent.com/udacity/deep-learning-v2-pytorch/master/intro-to-pytorch/helper.py\n",
        "\n",
        "# Define a transform to normalize the data\n",
        "transform = transforms.Compose([transforms.ToTensor(),\n",
        "                                transforms.Normalize((0.5,), (0.5,))])\n",
        "# Download and load the training data\n",
        "trainset = datasets.FashionMNIST('~/.pytorch/F_MNIST_data/', download=True, train=True, transform=transform)\n",
        "trainloader = torch.utils.data.DataLoader(trainset, batch_size=64, shuffle=True)\n",
        "\n",
        "# Download and load the test data\n",
        "testset = datasets.FashionMNIST('~/.pytorch/F_MNIST_data/', download=True, train=False, transform=transform)\n",
        "testloader = torch.utils.data.DataLoader(testset, batch_size=64, shuffle=True)"
      ],
      "execution_count": 1,
      "outputs": [
        {
          "output_type": "stream",
          "text": [
            "--2020-01-30 22:51:23--  https://raw.githubusercontent.com/udacity/deep-learning-v2-pytorch/master/intro-to-pytorch/helper.py\n",
            "Resolving raw.githubusercontent.com (raw.githubusercontent.com)... 151.101.0.133, 151.101.64.133, 151.101.128.133, ...\n",
            "Connecting to raw.githubusercontent.com (raw.githubusercontent.com)|151.101.0.133|:443... connected.\n",
            "HTTP request sent, awaiting response... 416 Range Not Satisfiable\n",
            "\n",
            "    The file is already fully retrieved; nothing to do.\n",
            "\n"
          ],
          "name": "stdout"
        }
      ]
    },
    {
      "cell_type": "markdown",
      "metadata": {
        "id": "SVRAAsW3Gt0Z",
        "colab_type": "text"
      },
      "source": [
        "Here I'll create a model like normal, using the same one from my solution for part 4."
      ]
    },
    {
      "cell_type": "code",
      "metadata": {
        "id": "8KKGHosTGt0d",
        "colab_type": "code",
        "colab": {}
      },
      "source": [
        "from torch import nn, optim\n",
        "import torch.nn.functional as F\n",
        "\n",
        "class Classifier(nn.Module):\n",
        "    def __init__(self):\n",
        "        super().__init__()\n",
        "        self.fc1 = nn.Linear(784, 256)\n",
        "        self.fc2 = nn.Linear(256, 128)\n",
        "        self.fc3 = nn.Linear(128, 64)\n",
        "        self.fc4 = nn.Linear(64, 10)\n",
        "        \n",
        "    def forward(self, x):\n",
        "        # make sure input tensor is flattened\n",
        "        x = x.view(x.shape[0], -1)\n",
        "        \n",
        "        x = F.relu(self.fc1(x))\n",
        "        x = F.relu(self.fc2(x))\n",
        "        x = F.relu(self.fc3(x))\n",
        "        x = F.log_softmax(self.fc4(x), dim=1)\n",
        "        \n",
        "        return x"
      ],
      "execution_count": 0,
      "outputs": []
    },
    {
      "cell_type": "markdown",
      "metadata": {
        "id": "xmI_-p7rGt0o",
        "colab_type": "text"
      },
      "source": [
        "The goal of validation is to measure the model's performance on data that isn't part of the training set. Performance here is up to the developer to define though. Typically this is just accuracy, the percentage of classes the network predicted correctly. Other options are [precision and recall](https://en.wikipedia.org/wiki/Precision_and_recall#Definition_(classification_context)) and top-5 error rate. We'll focus on accuracy here. First I'll do a forward pass with one batch from the test set."
      ]
    },
    {
      "cell_type": "code",
      "metadata": {
        "id": "uNJGVp1nGt0r",
        "colab_type": "code",
        "outputId": "6af57671-634f-40df-ea84-7c763e85a5b2",
        "colab": {
          "base_uri": "https://localhost:8080/",
          "height": 34
        }
      },
      "source": [
        "model = Classifier()\n",
        "\n",
        "images, labels = next(iter(testloader))\n",
        "# Get the class probabilities\n",
        "ps = torch.exp(model(images))\n",
        "# Make sure the shape is appropriate, we should get 10 class probabilities for 64 examples\n",
        "print(ps.shape)"
      ],
      "execution_count": 3,
      "outputs": [
        {
          "output_type": "stream",
          "text": [
            "torch.Size([64, 10])\n"
          ],
          "name": "stdout"
        }
      ]
    },
    {
      "cell_type": "markdown",
      "metadata": {
        "id": "UW7GT2U7Gt04",
        "colab_type": "text"
      },
      "source": [
        "With the probabilities, we can get the most likely class using the `ps.topk` method. This returns the $k$ highest values. Since we just want the most likely class, we can use `ps.topk(1)`. This returns a tuple of the top-$k$ values and the top-$k$ indices. If the highest value is the fifth element, we'll get back 4 as the index."
      ]
    },
    {
      "cell_type": "code",
      "metadata": {
        "id": "mAcSYT_6Gt06",
        "colab_type": "code",
        "outputId": "8bf8738b-ce1c-420f-91b0-a3fcd5447123",
        "colab": {
          "base_uri": "https://localhost:8080/",
          "height": 191
        }
      },
      "source": [
        "top_p, top_class = ps.topk(1, dim=1)\n",
        "# Look at the most likely classes for the first 10 examples\n",
        "print(top_class[:10,:])"
      ],
      "execution_count": 4,
      "outputs": [
        {
          "output_type": "stream",
          "text": [
            "tensor([[2],\n",
            "        [2],\n",
            "        [2],\n",
            "        [0],\n",
            "        [2],\n",
            "        [2],\n",
            "        [2],\n",
            "        [9],\n",
            "        [0],\n",
            "        [2]])\n"
          ],
          "name": "stdout"
        }
      ]
    },
    {
      "cell_type": "markdown",
      "metadata": {
        "id": "fy-fD_hvGt1H",
        "colab_type": "text"
      },
      "source": [
        "Now we can check if the predicted classes match the labels. This is simple to do by equating `top_class` and `labels`, but we have to be careful of the shapes. Here `top_class` is a 2D tensor with shape `(64, 1)` while `labels` is 1D with shape `(64)`. To get the equality to work out the way we want, `top_class` and `labels` must have the same shape.\n",
        "\n",
        "If we do\n",
        "\n",
        "```python\n",
        "equals = top_class == labels\n",
        "```\n",
        "\n",
        "`equals` will have shape `(64, 64)`, try it yourself. What it's doing is comparing the one element in each row of `top_class` with each element in `labels` which returns 64 True/False boolean values for each row."
      ]
    },
    {
      "cell_type": "code",
      "metadata": {
        "id": "L87YP5Y-Gt1J",
        "colab_type": "code",
        "colab": {}
      },
      "source": [
        "equals = top_class == labels.view(*top_class.shape)"
      ],
      "execution_count": 0,
      "outputs": []
    },
    {
      "cell_type": "markdown",
      "metadata": {
        "id": "4SRM4fl1Gt1S",
        "colab_type": "text"
      },
      "source": [
        "Now we need to calculate the percentage of correct predictions. `equals` has binary values, either 0 or 1. This means that if we just sum up all the values and divide by the number of values, we get the percentage of correct predictions. This is the same operation as taking the mean, so we can get the accuracy with a call to `torch.mean`. If only it was that simple. If you try `torch.mean(equals)`, you'll get an error\n",
        "\n",
        "```\n",
        "RuntimeError: mean is not implemented for type torch.ByteTensor\n",
        "```\n",
        "\n",
        "This happens because `equals` has type `torch.ByteTensor` but `torch.mean` isn't implemented for tensors with that type. So we'll need to convert `equals` to a float tensor. Note that when we take `torch.mean` it returns a scalar tensor, to get the actual value as a float we'll need to do `accuracy.item()`."
      ]
    },
    {
      "cell_type": "code",
      "metadata": {
        "id": "XJC_VcytGt1U",
        "colab_type": "code",
        "outputId": "1f200d92-32e9-4eca-cbf2-b217ac2f8891",
        "colab": {
          "base_uri": "https://localhost:8080/",
          "height": 34
        }
      },
      "source": [
        "accuracy = torch.mean(equals.type(torch.FloatTensor))\n",
        "print(f'Accuracy: {accuracy.item()*100}%')"
      ],
      "execution_count": 6,
      "outputs": [
        {
          "output_type": "stream",
          "text": [
            "Accuracy: 7.8125%\n"
          ],
          "name": "stdout"
        }
      ]
    },
    {
      "cell_type": "markdown",
      "metadata": {
        "id": "jQgiw7B9Gt1f",
        "colab_type": "text"
      },
      "source": [
        "The network is untrained so it's making random guesses and we should see an accuracy around 10%. Now let's train our network and include our validation pass so we can measure how well the network is performing on the test set. Since we're not updating our parameters in the validation pass, we can speed up our code by turning off gradients using `torch.no_grad()`:\n",
        "\n",
        "```python\n",
        "# turn off gradients\n",
        "with torch.no_grad():\n",
        "    # validation pass here\n",
        "    for images, labels in testloader:\n",
        "        ...\n",
        "```\n",
        "\n",
        ">**Exercise:** Implement the validation loop below and print out the total accuracy after the loop. You can largely copy and paste the code from above, but I suggest typing it in because writing it out yourself is essential for building the skill. In general you'll always learn more by typing it rather than copy-pasting. You should be able to get an accuracy above 80%."
      ]
    },
    {
      "cell_type": "code",
      "metadata": {
        "id": "_98uJll4Gt1i",
        "colab_type": "code",
        "outputId": "0cbb0a7b-05a9-46ab-8b9e-6e70526d6085",
        "colab": {
          "base_uri": "https://localhost:8080/",
          "height": 1000
        }
      },
      "source": [
        "model = Classifier()\n",
        "criterion = nn.NLLLoss()\n",
        "optimizer = optim.Adam(model.parameters(), lr=0.003)\n",
        "\n",
        "epochs = 30\n",
        "steps = 0\n",
        "\n",
        "train_losses, test_losses = [], []\n",
        "for e in range(epochs):\n",
        "    running_loss = 0\n",
        "    for images, labels in trainloader:\n",
        "        \n",
        "        optimizer.zero_grad()\n",
        "        \n",
        "        log_ps = model(images)\n",
        "        loss = criterion(log_ps, labels)\n",
        "        loss.backward()\n",
        "        optimizer.step()\n",
        "        \n",
        "        running_loss += loss.item()\n",
        "        \n",
        "    else:\n",
        "        ## TODO: Implement the validation pass and print out the validation accuracy\n",
        "        test_loss = 0\n",
        "        accuracy = 0\n",
        "        \n",
        "        # Turn off gradients for validation, saves memory and computations\n",
        "        with torch.no_grad():\n",
        "            for images, labels in testloader:\n",
        "                log_ps = model(images)\n",
        "                test_loss += criterion(log_ps, labels)\n",
        "                \n",
        "                ps = torch.exp(log_ps)\n",
        "                top_p, top_class = ps.topk(1, dim=1)\n",
        "                equals = top_class == labels.view(*top_class.shape)\n",
        "                accuracy += torch.mean(equals.type(torch.FloatTensor))\n",
        "                \n",
        "        train_losses.append(running_loss/len(trainloader))\n",
        "        test_losses.append(test_loss/len(testloader))\n",
        "\n",
        "        print(\"Epoch: {}/{}.. \".format(e+1, epochs),\n",
        "              \"Training Loss: {:.3f}.. \".format(running_loss/len(trainloader)),\n",
        "              \"Test Loss: {:.3f}.. \".format(test_loss/len(testloader)),\n",
        "              \"Test Accuracy: {:.3f}\".format(accuracy/len(testloader)))\n",
        "        print(f'Accuracy: {accuracy.item()*100}%')"
      ],
      "execution_count": 7,
      "outputs": [
        {
          "output_type": "stream",
          "text": [
            "Epoch: 1/30..  Training Loss: 0.515..  Test Loss: 0.433..  Test Accuracy: 0.848\n",
            "Accuracy: 13310.9375%\n",
            "Epoch: 2/30..  Training Loss: 0.391..  Test Loss: 0.409..  Test Accuracy: 0.855\n",
            "Accuracy: 13426.5625%\n",
            "Epoch: 3/30..  Training Loss: 0.355..  Test Loss: 0.404..  Test Accuracy: 0.854\n",
            "Accuracy: 13410.9375%\n",
            "Epoch: 4/30..  Training Loss: 0.335..  Test Loss: 0.375..  Test Accuracy: 0.870\n",
            "Accuracy: 13654.6875%\n",
            "Epoch: 5/30..  Training Loss: 0.318..  Test Loss: 0.377..  Test Accuracy: 0.866\n",
            "Accuracy: 13603.125%\n",
            "Epoch: 6/30..  Training Loss: 0.307..  Test Loss: 0.401..  Test Accuracy: 0.861\n",
            "Accuracy: 13523.4375%\n",
            "Epoch: 7/30..  Training Loss: 0.298..  Test Loss: 0.375..  Test Accuracy: 0.871\n",
            "Accuracy: 13668.75%\n",
            "Epoch: 8/30..  Training Loss: 0.280..  Test Loss: 0.362..  Test Accuracy: 0.876\n",
            "Accuracy: 13756.25%\n",
            "Epoch: 9/30..  Training Loss: 0.273..  Test Loss: 0.370..  Test Accuracy: 0.875\n",
            "Accuracy: 13742.1875%\n",
            "Epoch: 10/30..  Training Loss: 0.267..  Test Loss: 0.351..  Test Accuracy: 0.881\n",
            "Accuracy: 13826.5625%\n",
            "Epoch: 11/30..  Training Loss: 0.260..  Test Loss: 0.372..  Test Accuracy: 0.873\n",
            "Accuracy: 13704.6875%\n",
            "Epoch: 12/30..  Training Loss: 0.250..  Test Loss: 0.375..  Test Accuracy: 0.884\n",
            "Accuracy: 13881.25%\n",
            "Epoch: 13/30..  Training Loss: 0.250..  Test Loss: 0.365..  Test Accuracy: 0.879\n",
            "Accuracy: 13796.875%\n",
            "Epoch: 14/30..  Training Loss: 0.245..  Test Loss: 0.367..  Test Accuracy: 0.878\n",
            "Accuracy: 13790.625%\n",
            "Epoch: 15/30..  Training Loss: 0.236..  Test Loss: 0.373..  Test Accuracy: 0.873\n",
            "Accuracy: 13700.0%\n",
            "Epoch: 16/30..  Training Loss: 0.233..  Test Loss: 0.358..  Test Accuracy: 0.880\n",
            "Accuracy: 13810.9375%\n",
            "Epoch: 17/30..  Training Loss: 0.226..  Test Loss: 0.431..  Test Accuracy: 0.862\n",
            "Accuracy: 13526.5625%\n",
            "Epoch: 18/30..  Training Loss: 0.224..  Test Loss: 0.405..  Test Accuracy: 0.878\n",
            "Accuracy: 13785.9375%\n",
            "Epoch: 19/30..  Training Loss: 0.226..  Test Loss: 0.389..  Test Accuracy: 0.881\n",
            "Accuracy: 13828.125%\n",
            "Epoch: 20/30..  Training Loss: 0.215..  Test Loss: 0.385..  Test Accuracy: 0.877\n",
            "Accuracy: 13767.1875%\n",
            "Epoch: 21/30..  Training Loss: 0.211..  Test Loss: 0.405..  Test Accuracy: 0.874\n",
            "Accuracy: 13718.75%\n",
            "Epoch: 22/30..  Training Loss: 0.203..  Test Loss: 0.393..  Test Accuracy: 0.884\n",
            "Accuracy: 13876.5625%\n",
            "Epoch: 23/30..  Training Loss: 0.203..  Test Loss: 0.388..  Test Accuracy: 0.881\n",
            "Accuracy: 13837.5%\n",
            "Epoch: 24/30..  Training Loss: 0.199..  Test Loss: 0.402..  Test Accuracy: 0.879\n",
            "Accuracy: 13800.0%\n",
            "Epoch: 25/30..  Training Loss: 0.201..  Test Loss: 0.405..  Test Accuracy: 0.883\n",
            "Accuracy: 13862.5%\n",
            "Epoch: 26/30..  Training Loss: 0.195..  Test Loss: 0.378..  Test Accuracy: 0.885\n",
            "Accuracy: 13900.0%\n",
            "Epoch: 27/30..  Training Loss: 0.196..  Test Loss: 0.427..  Test Accuracy: 0.877\n",
            "Accuracy: 13773.4375%\n",
            "Epoch: 28/30..  Training Loss: 0.189..  Test Loss: 0.422..  Test Accuracy: 0.878\n",
            "Accuracy: 13789.0625%\n",
            "Epoch: 29/30..  Training Loss: 0.187..  Test Loss: 0.401..  Test Accuracy: 0.887\n",
            "Accuracy: 13931.25%\n",
            "Epoch: 30/30..  Training Loss: 0.179..  Test Loss: 0.418..  Test Accuracy: 0.885\n",
            "Accuracy: 13887.5%\n"
          ],
          "name": "stdout"
        }
      ]
    },
    {
      "cell_type": "code",
      "metadata": {
        "id": "imqTNHPnHAHe",
        "colab_type": "code",
        "colab": {}
      },
      "source": [
        "%matplotlib inline\n",
        "%config InlineBackend.figure_format = 'retina'\n",
        "\n",
        "import matplotlib.pyplot as plt"
      ],
      "execution_count": 0,
      "outputs": []
    },
    {
      "cell_type": "code",
      "metadata": {
        "id": "4EvCneSJHDX3",
        "colab_type": "code",
        "outputId": "d1c49985-c775-42ec-8b4b-d12a4d19f143",
        "colab": {
          "base_uri": "https://localhost:8080/",
          "height": 282
        }
      },
      "source": [
        "plt.plot(train_losses, label='Training loss')\n",
        "plt.plot(test_losses, label='Validation loss')\n",
        "plt.legend(frameon=False)"
      ],
      "execution_count": 9,
      "outputs": [
        {
          "output_type": "execute_result",
          "data": {
            "text/plain": [
              "<matplotlib.legend.Legend at 0x7f04509c4128>"
            ]
          },
          "metadata": {
            "tags": []
          },
          "execution_count": 9
        },
        {
          "output_type": "display_data",
          "data": {
            "image/png": "[encoded data removed]",
            "text/plain": [
              "<Figure size 432x288 with 1 Axes>"
            ]
          },
          "metadata": {
            "tags": [],
            "image/png": {
              "width": 380,
              "height": 248
            }
          }
        }
      ]
    },
    {
      "cell_type": "markdown",
      "metadata": {
        "id": "A5ViwPy5Gt1q",
        "colab_type": "text"
      },
      "source": [
        "## Overfitting\n",
        "\n",
        "If we look at the training and validation losses as we train the network, we can see a phenomenon known as overfitting.\n",
        "\n",
        "<img src='https://github.com/udacity/deep-learning-v2-pytorch/blob/master/intro-to-pytorch/assets/overfitting.png?raw=1' width=450px>\n",
        "\n",
        "The network learns the training set better and better, resulting in lower training losses. However, it starts having problems generalizing to data outside the training set leading to the validation loss increasing. The ultimate goal of any deep learning model is to make predictions on new data, so we should strive to get the lowest validation loss possible. One option is to use the version of the model with the lowest validation loss, here the one around 8-10 training epochs. This strategy is called *early-stopping*. In practice, you'd save the model frequently as you're training then later choose the model with the lowest validation loss.\n",
        "\n",
        "The most common method to reduce overfitting (outside of early-stopping) is *dropout*, where we randomly drop input units. This forces the network to share information between weights, increasing it's ability to generalize to new data. Adding dropout in PyTorch is straightforward using the [`nn.Dropout`](https://pytorch.org/docs/stable/nn.html#torch.nn.Dropout) module.\n",
        "\n",
        "```python\n",
        "class Classifier(nn.Module):\n",
        "    def __init__(self):\n",
        "        super().__init__()\n",
        "        self.fc1 = nn.Linear(784, 256)\n",
        "        self.fc2 = nn.Linear(256, 128)\n",
        "        self.fc3 = nn.Linear(128, 64)\n",
        "        self.fc4 = nn.Linear(64, 10)\n",
        "        \n",
        "        # Dropout module with 0.2 drop probability\n",
        "        self.dropout = nn.Dropout(p=0.2)\n",
        "        \n",
        "    def forward(self, x):\n",
        "        # make sure input tensor is flattened\n",
        "        x = x.view(x.shape[0], -1)\n",
        "        \n",
        "        # Now with dropout\n",
        "        x = self.dropout(F.relu(self.fc1(x)))\n",
        "        x = self.dropout(F.relu(self.fc2(x)))\n",
        "        x = self.dropout(F.relu(self.fc3(x)))\n",
        "        \n",
        "        # output so no dropout here\n",
        "        x = F.log_softmax(self.fc4(x), dim=1)\n",
        "        \n",
        "        return x\n",
        "```\n",
        "\n",
        "During training we want to use dropout to prevent overfitting, but during inference we want to use the entire network. So, we need to turn off dropout during validation, testing, and whenever we're using the network to make predictions. To do this, you use `model.eval()`. This sets the model to evaluation mode where the dropout probability is 0. You can turn dropout back on by setting the model to train mode with `model.train()`. In general, the pattern for the validation loop will look like this, where you turn off gradients, set the model to evaluation mode, calculate the validation loss and metric, then set the model back to train mode.\n",
        "\n",
        "```python\n",
        "# turn off gradients\n",
        "with torch.no_grad():\n",
        "    \n",
        "    # set model to evaluation mode\n",
        "    model.eval()\n",
        "    \n",
        "    # validation pass here\n",
        "    for images, labels in testloader:\n",
        "        ...\n",
        "\n",
        "# set model back to train mode\n",
        "model.train()\n",
        "```"
      ]
    },
    {
      "cell_type": "markdown",
      "metadata": {
        "id": "nX4v5ryJGt1s",
        "colab_type": "text"
      },
      "source": [
        "> **Exercise:** Add dropout to your model and train it on Fashion-MNIST again. See if you can get a lower validation loss or higher accuracy."
      ]
    },
    {
      "cell_type": "code",
      "metadata": {
        "id": "uvHiP_AVGt1u",
        "colab_type": "code",
        "colab": {}
      },
      "source": [
        "## TODO: Define your model with dropout added\n",
        "\n",
        "class Classifier(nn.Module):\n",
        "    def __init__(self):\n",
        "        super().__init__()\n",
        "        self.fc1=nn.Linear(784,256)\n",
        "        self.fc2=nn.Linear(256,128)\n",
        "        self.fc3=nn.Linear(128,64)\n",
        "        self.fc4=nn.Linear(64,10)\n",
        "        self.dropout=nn.Dropout(p=0.2)\n",
        "\n",
        "    def forward(self,x):\n",
        "        x=x.view(x.shape[0],-1)\n",
        "        x=self.dropout(F.relu(self.fc1(x)))\n",
        "        x=self.dropout(F.relu(self.fc2(x)))\n",
        "        x=self.dropout(F.relu(self.fc3(x)))\n",
        "        x=F.log_softmax(self.fc4(x),dim=1)\n",
        "        return x\n"
      ],
      "execution_count": 0,
      "outputs": []
    },
    {
      "cell_type": "code",
      "metadata": {
        "id": "brbgWBI7Gt14",
        "colab_type": "code",
        "outputId": "68a041b7-c657-4d01-d670-a721db7d92bc",
        "colab": {
          "base_uri": "https://localhost:8080/",
          "height": 538
        }
      },
      "source": [
        "## TODO: Train your model with dropout, and monitor the training progress with the validation loss and accuracy\n",
        "model = Classifier()\n",
        "criterion = nn.NLLLoss()\n",
        "optimizer = optim.Adam(model.parameters(), lr=0.003)\n",
        "\n",
        "epochs=30\n",
        "steps = 0\n",
        "\n",
        "train_losses,test_losses=[],[]\n",
        "for e in range(epochs):\n",
        "    running_loss = 0\n",
        "    for images, labels in trainloader:\n",
        "\n",
        "        optimizer.zero_grad()\n",
        "\n",
        "        log_ps=model(images)\n",
        "        loss=criterion(log_ps,labels)\n",
        "        loss.backward()\n",
        "        optimizer.step()\n",
        "\n",
        "        running_loss +=loss.item()\n",
        "    else: \n",
        "        test_loss=0\n",
        "        accuracy=0   \n",
        "        \n",
        "        with torch.no_grad():\n",
        "            model.eval()\n",
        "            for images, labels in testloader:\n",
        "                log_ps=model(images)\n",
        "                test_loss +=criterion(log_ps,labels)\n",
        "\n",
        "                ps=torch.exp(log_ps)\n",
        "                top_p, top_class = ps.topk(1, dim=1)\n",
        "                equals = top_class == labels.view(*top_class.shape)\n",
        "                accuracy += torch.mean(equals.type(torch.FloatTensor))\n",
        "\n",
        "\n",
        "        model.train() \n",
        "        train_losses.append(running_loss/len(trainloader))\n",
        "        test_losses.append(test_loss/len(testloader))\n",
        "\n",
        "        print(\"Epoch: {}/{}.. \".format(e+1, epochs),\n",
        "              \"Training Loss: {:.3f}.. \".format(train_losses[-1]),\n",
        "              \"Test Loss: {:.3f}.. \".format(test_losses[-1]),\n",
        "              \"Test Accuracy: {:.3f}\".format(accuracy/len(testloader)))\n",
        "\n",
        "        \n"
      ],
      "execution_count": 26,
      "outputs": [
        {
          "output_type": "stream",
          "text": [
            "Epoch: 1/30..  Training Loss: 0.598..  Test Loss: 0.505..  Test Accuracy: 0.818\n",
            "Epoch: 2/30..  Training Loss: 0.488..  Test Loss: 0.443..  Test Accuracy: 0.837\n",
            "Epoch: 3/30..  Training Loss: 0.450..  Test Loss: 0.425..  Test Accuracy: 0.847\n",
            "Epoch: 4/30..  Training Loss: 0.435..  Test Loss: 0.407..  Test Accuracy: 0.852\n",
            "Epoch: 5/30..  Training Loss: 0.421..  Test Loss: 0.403..  Test Accuracy: 0.861\n",
            "Epoch: 6/30..  Training Loss: 0.418..  Test Loss: 0.421..  Test Accuracy: 0.852\n",
            "Epoch: 7/30..  Training Loss: 0.407..  Test Loss: 0.405..  Test Accuracy: 0.862\n",
            "Epoch: 8/30..  Training Loss: 0.403..  Test Loss: 0.377..  Test Accuracy: 0.861\n",
            "Epoch: 9/30..  Training Loss: 0.392..  Test Loss: 0.382..  Test Accuracy: 0.861\n",
            "Epoch: 10/30..  Training Loss: 0.389..  Test Loss: 0.416..  Test Accuracy: 0.857\n",
            "Epoch: 11/30..  Training Loss: 0.391..  Test Loss: 0.382..  Test Accuracy: 0.870\n",
            "Epoch: 12/30..  Training Loss: 0.380..  Test Loss: 0.384..  Test Accuracy: 0.869\n",
            "Epoch: 13/30..  Training Loss: 0.376..  Test Loss: 0.372..  Test Accuracy: 0.871\n",
            "Epoch: 14/30..  Training Loss: 0.376..  Test Loss: 0.370..  Test Accuracy: 0.873\n",
            "Epoch: 15/30..  Training Loss: 0.380..  Test Loss: 0.399..  Test Accuracy: 0.861\n",
            "Epoch: 16/30..  Training Loss: 0.365..  Test Loss: 0.387..  Test Accuracy: 0.863\n",
            "Epoch: 17/30..  Training Loss: 0.364..  Test Loss: 0.371..  Test Accuracy: 0.868\n",
            "Epoch: 18/30..  Training Loss: 0.368..  Test Loss: 0.412..  Test Accuracy: 0.866\n",
            "Epoch: 19/30..  Training Loss: 0.359..  Test Loss: 0.393..  Test Accuracy: 0.866\n",
            "Epoch: 20/30..  Training Loss: 0.358..  Test Loss: 0.362..  Test Accuracy: 0.876\n",
            "Epoch: 21/30..  Training Loss: 0.357..  Test Loss: 0.384..  Test Accuracy: 0.873\n",
            "Epoch: 22/30..  Training Loss: 0.356..  Test Loss: 0.385..  Test Accuracy: 0.862\n",
            "Epoch: 23/30..  Training Loss: 0.350..  Test Loss: 0.383..  Test Accuracy: 0.869\n",
            "Epoch: 24/30..  Training Loss: 0.353..  Test Loss: 0.371..  Test Accuracy: 0.872\n",
            "Epoch: 25/30..  Training Loss: 0.343..  Test Loss: 0.370..  Test Accuracy: 0.873\n",
            "Epoch: 26/30..  Training Loss: 0.352..  Test Loss: 0.385..  Test Accuracy: 0.865\n",
            "Epoch: 27/30..  Training Loss: 0.344..  Test Loss: 0.380..  Test Accuracy: 0.871\n",
            "Epoch: 28/30..  Training Loss: 0.347..  Test Loss: 0.371..  Test Accuracy: 0.875\n",
            "Epoch: 29/30..  Training Loss: 0.343..  Test Loss: 0.391..  Test Accuracy: 0.875\n",
            "Epoch: 30/30..  Training Loss: 0.343..  Test Loss: 0.387..  Test Accuracy: 0.875\n"
          ],
          "name": "stdout"
        }
      ]
    },
    {
      "cell_type": "code",
      "metadata": {
        "id": "Nmkeuxp3th7B",
        "colab_type": "code",
        "colab": {}
      },
      "source": [
        "%matplotlib inline\n",
        "%config InlineBackend.figure_format = 'retina'\n",
        "\n",
        "import matplotlib.pyplot as plt"
      ],
      "execution_count": 0,
      "outputs": []
    },
    {
      "cell_type": "code",
      "metadata": {
        "id": "La7AwuJjtl6g",
        "colab_type": "code",
        "colab": {
          "base_uri": "https://localhost:8080/",
          "height": 282
        },
        "outputId": "e331140a-bfca-4e70-a12d-5fbb5c0f81e6"
      },
      "source": [
        "plt.plot(train_losses, label='Training loss')\n",
        "plt.plot(test_losses, label='Validation loss')\n",
        "plt.legend(frameon=False)"
      ],
      "execution_count": 27,
      "outputs": [
        {
          "output_type": "execute_result",
          "data": {
            "text/plain": [
              "<matplotlib.legend.Legend at 0x7f044aa9ea20>"
            ]
          },
          "metadata": {
            "tags": []
          },
          "execution_count": 27
        },
        {
          "output_type": "display_data",
          "data": {
            "image/png": "[encoded data removed]",
            "text/plain": [
              "<Figure size 432x288 with 1 Axes>"
            ]
          },
          "metadata": {
            "tags": [],
            "image/png": {
              "width": 380,
              "height": 248
            }
          }
        }
      ]
    },
    {
      "cell_type": "markdown",
      "metadata": {
        "id": "YIiRelxnGt2A",
        "colab_type": "text"
      },
      "source": [
        "## Inference\n",
        "\n",
        "Now that the model is trained, we can use it for inference. We've done this before, but now we need to remember to set the model in inference mode with `model.eval()`. You'll also want to turn off autograd with the `torch.no_grad()` context."
      ]
    },
    {
      "cell_type": "code",
      "metadata": {
        "id": "0TPJLKC_Gt2D",
        "colab_type": "code",
        "outputId": "934e932c-e44b-4150-99d8-3f52f4b854ec",
        "colab": {
          "base_uri": "https://localhost:8080/",
          "height": 233
        }
      },
      "source": [
        "# Import helper module (should be in the repo)\n",
        "import helper\n",
        "\n",
        "# Test out your network!\n",
        "\n",
        "model.eval()\n",
        "\n",
        "dataiter = iter(testloader)\n",
        "images, labels = dataiter.next()\n",
        "img = images[0]\n",
        "# Convert 2D image to 1D vector\n",
        "img = img.view(1, 784)\n",
        "\n",
        "# Calculate the class probabilities (softmax) for img\n",
        "with torch.no_grad():\n",
        "    output = model.forward(img)\n",
        "\n",
        "ps = torch.exp(output)\n",
        "\n",
        "# Plot the image and probabilities\n",
        "helper.view_classify(img.view(1, 28, 28), ps, version='Fashion')"
      ],
      "execution_count": 28,
      "outputs": [
        {
          "output_type": "display_data",
          "data": {
            "image/png": "[encoded data removed]",
            "text/plain": [
              "<Figure size 432x648 with 2 Axes>"
            ]
          },
          "metadata": {
            "tags": [],
            "image/png": {
              "width": 424,
              "height": 216
            }
          }
        }
      ]
    },
    {
      "cell_type": "markdown",
      "metadata": {
        "id": "khy2kaG5Gt2L",
        "colab_type": "text"
      },
      "source": [
        "## Next Up!\n",
        "\n",
        "In the next part, I'll show you how to save your trained models. In general, you won't want to train a model everytime you need it. Instead, you'll train once, save it, then load the model when you want to train more or use if for inference."
      ]
    }
  ]
}
{
  "nbformat": 4,
  "nbformat_minor": 0,
  "metadata": {
    "kernelspec": {
      "display_name": "Python 3",
      "language": "python",
      "name": "python3"
    },
    "language_info": {
      "codemirror_mode": {
        "name": "ipython",
        "version": 3
      },
      "file_extension": ".py",
      "mimetype": "text/x-python",
      "name": "python",
      "nbconvert_exporter": "python",
      "pygments_lexer": "ipython3",
      "version": "3.6.6"
    },
    "colab": {
      "name": "Part 5 - Inference and Validation (Exercises).ipynb",
      "provenance": [],
      "include_colab_link": true
    }
  },
  "cells": [
    {
      "cell_type": "markdown",
      "metadata": {
        "id": "view-in-github",
        "colab_type": "text"
      },
      "source": [
        "<a href=\"https://colab.research.google.com/github/waltermayor/AITrackNanodegree/blob/master/Part_5_Inference_and_Validation.ipynb\" target=\"_parent\"><img src=\"https://colab.research.google.com/assets/colab-badge.svg\" alt=\"Open In Colab\"/></a>"
      ]
    },
    {
      "cell_type": "markdown",
      "metadata": {
        "id": "iOA7riWXGt0B",
        "colab_type": "text"
      },
      "source": [
        "# Inference and Validation\n",
        "\n",
        "Now that you have a trained network, you can use it for making predictions. This is typically called **inference**, a term borrowed from statistics. However, neural networks have a tendency to perform *too well* on the training data and aren't able to generalize to data that hasn't been seen before. This is called **overfitting** and it impairs inference performance. To test for overfitting while training, we measure the performance on data not in the training set called the **validation** set. We avoid overfitting through regularization such as dropout while monitoring the validation performance during training. In this notebook, I'll show you how to do this in PyTorch. \n",
        "\n",
        "As usual, let's start by loading the dataset through torchvision. You'll learn more about torchvision and loading data in a later part. This time we'll be taking advantage of the test set which you can get by setting `train=False` here:\n",
        "\n",
        "```python\n",
        "testset = datasets.FashionMNIST('~/.pytorch/F_MNIST_data/', download=True, train=False, transform=transform)\n",
        "```\n",
        "\n",
        "The test set contains images just like the training set. Typically you'll see 10-20% of the original dataset held out for testing and validation with the rest being used for training."
      ]
    },
    {
      "cell_type": "code",
      "metadata": {
        "id": "Xf18LtHFGt0H",
        "colab_type": "code",
        "outputId": "40124882-36e1-4754-b985-795bce8b6ad6",
        "colab": {
          "base_uri": "https://localhost:8080/",
          "height": 159
        }
      },
      "source": [
        "import torch\n",
        "from torchvision import datasets, transforms\n",
        "\n",
        "!wget -c https://raw.githubusercontent.com/udacity/deep-learning-v2-pytorch/master/intro-to-pytorch/helper.py\n",
        "\n",
        "# Define a transform to normalize the data\n",
        "transform = transforms.Compose([transforms.ToTensor(),\n",
        "                                transforms.Normalize((0.5,), (0.5,))])\n",
        "# Download and load the training data\n",
        "trainset = datasets.FashionMNIST('~/.pytorch/F_MNIST_data/', download=True, train=True, transform=transform)\n",
        "trainloader = torch.utils.data.DataLoader(trainset, batch_size=64, shuffle=True)\n",
        "\n",
        "# Download and load the test data\n",
        "testset = datasets.FashionMNIST('~/.pytorch/F_MNIST_data/', download=True, train=False, transform=transform)\n",
        "testloader = torch.utils.data.DataLoader(testset, batch_size=64, shuffle=True)"
      ],
      "execution_count": 0,
      "outputs": [
        {
          "output_type": "stream",
          "text": [
            "--2020-01-30 01:46:56--  https://raw.githubusercontent.com/udacity/deep-learning-v2-pytorch/master/intro-to-pytorch/helper.py\n",
            "Resolving raw.githubusercontent.com (raw.githubusercontent.com)... 151.101.0.133, 151.101.64.133, 151.101.128.133, ...\n",
            "Connecting to raw.githubusercontent.com (raw.githubusercontent.com)|151.101.0.133|:443... connected.\n",
            "HTTP request sent, awaiting response... 416 Range Not Satisfiable\n",
            "\n",
            "    The file is already fully retrieved; nothing to do.\n",
            "\n"
          ],
          "name": "stdout"
        }
      ]
    },
    {
      "cell_type": "markdown",
      "metadata": {
        "id": "SVRAAsW3Gt0Z",
        "colab_type": "text"
      },
      "source": [
        "Here I'll create a model like normal, using the same one from my solution for part 4."
      ]
    },
    {
      "cell_type": "code",
      "metadata": {
        "id": "8KKGHosTGt0d",
        "colab_type": "code",
        "colab": {}
      },
      "source": [
        "from torch import nn, optim\n",
        "import torch.nn.functional as F\n",
        "\n",
        "class Classifier(nn.Module):\n",
        "    def __init__(self):\n",
        "        super().__init__()\n",
        "        self.fc1 = nn.Linear(784, 256)\n",
        "        self.fc2 = nn.Linear(256, 128)\n",
        "        self.fc3 = nn.Linear(128, 64)\n",
        "        self.fc4 = nn.Linear(64, 10)\n",
        "        \n",
        "    def forward(self, x):\n",
        "        # make sure input tensor is flattened\n",
        "        x = x.view(x.shape[0], -1)\n",
        "        \n",
        "        x = F.relu(self.fc1(x))\n",
        "        x = F.relu(self.fc2(x))\n",
        "        x = F.relu(self.fc3(x))\n",
        "        x = F.log_softmax(self.fc4(x), dim=1)\n",
        "        \n",
        "        return x"
      ],
      "execution_count": 0,
      "outputs": []
    },
    {
      "cell_type": "markdown",
      "metadata": {
        "id": "xmI_-p7rGt0o",
        "colab_type": "text"
      },
      "source": [
        "The goal of validation is to measure the model's performance on data that isn't part of the training set. Performance here is up to the developer to define though. Typically this is just accuracy, the percentage of classes the network predicted correctly. Other options are [precision and recall](https://en.wikipedia.org/wiki/Precision_and_recall#Definition_(classification_context)) and top-5 error rate. We'll focus on accuracy here. First I'll do a forward pass with one batch from the test set."
      ]
    },
    {
      "cell_type": "code",
      "metadata": {
        "id": "uNJGVp1nGt0r",
        "colab_type": "code",
        "outputId": "264f1dc9-69ed-4f61-8303-3d9e02f225c0",
        "colab": {
          "base_uri": "https://localhost:8080/",
          "height": 34
        }
      },
      "source": [
        "model = Classifier()\n",
        "\n",
        "images, labels = next(iter(testloader))\n",
        "# Get the class probabilities\n",
        "ps = torch.exp(model(images))\n",
        "# Make sure the shape is appropriate, we should get 10 class probabilities for 64 examples\n",
        "print(ps.shape)"
      ],
      "execution_count": 0,
      "outputs": [
        {
          "output_type": "stream",
          "text": [
            "torch.Size([64, 10])\n"
          ],
          "name": "stdout"
        }
      ]
    },
    {
      "cell_type": "markdown",
      "metadata": {
        "id": "UW7GT2U7Gt04",
        "colab_type": "text"
      },
      "source": [
        "With the probabilities, we can get the most likely class using the `ps.topk` method. This returns the $k$ highest values. Since we just want the most likely class, we can use `ps.topk(1)`. This returns a tuple of the top-$k$ values and the top-$k$ indices. If the highest value is the fifth element, we'll get back 4 as the index."
      ]
    },
    {
      "cell_type": "code",
      "metadata": {
        "id": "mAcSYT_6Gt06",
        "colab_type": "code",
        "outputId": "8e3d0eeb-e842-4cc1-8c20-7b201e2f0c61",
        "colab": {}
      },
      "source": [
        "top_p, top_class = ps.topk(1, dim=1)\n",
        "# Look at the most likely classes for the first 10 examples\n",
        "print(top_class[:10,:])"
      ],
      "execution_count": 0,
      "outputs": [
        {
          "output_type": "stream",
          "text": [
            "tensor([[ 1],\n",
            "        [ 1],\n",
            "        [ 1],\n",
            "        [ 1],\n",
            "        [ 1],\n",
            "        [ 1],\n",
            "        [ 1],\n",
            "        [ 1],\n",
            "        [ 1],\n",
            "        [ 1]])\n"
          ],
          "name": "stdout"
        }
      ]
    },
    {
      "cell_type": "markdown",
      "metadata": {
        "id": "fy-fD_hvGt1H",
        "colab_type": "text"
      },
      "source": [
        "Now we can check if the predicted classes match the labels. This is simple to do by equating `top_class` and `labels`, but we have to be careful of the shapes. Here `top_class` is a 2D tensor with shape `(64, 1)` while `labels` is 1D with shape `(64)`. To get the equality to work out the way we want, `top_class` and `labels` must have the same shape.\n",
        "\n",
        "If we do\n",
        "\n",
        "```python\n",
        "equals = top_class == labels\n",
        "```\n",
        "\n",
        "`equals` will have shape `(64, 64)`, try it yourself. What it's doing is comparing the one element in each row of `top_class` with each element in `labels` which returns 64 True/False boolean values for each row."
      ]
    },
    {
      "cell_type": "code",
      "metadata": {
        "id": "L87YP5Y-Gt1J",
        "colab_type": "code",
        "colab": {}
      },
      "source": [
        "equals = top_class == labels.view(*top_class.shape)"
      ],
      "execution_count": 0,
      "outputs": []
    },
    {
      "cell_type": "markdown",
      "metadata": {
        "id": "4SRM4fl1Gt1S",
        "colab_type": "text"
      },
      "source": [
        "Now we need to calculate the percentage of correct predictions. `equals` has binary values, either 0 or 1. This means that if we just sum up all the values and divide by the number of values, we get the percentage of correct predictions. This is the same operation as taking the mean, so we can get the accuracy with a call to `torch.mean`. If only it was that simple. If you try `torch.mean(equals)`, you'll get an error\n",
        "\n",
        "```\n",
        "RuntimeError: mean is not implemented for type torch.ByteTensor\n",
        "```\n",
        "\n",
        "This happens because `equals` has type `torch.ByteTensor` but `torch.mean` isn't implemented for tensors with that type. So we'll need to convert `equals` to a float tensor. Note that when we take `torch.mean` it returns a scalar tensor, to get the actual value as a float we'll need to do `accuracy.item()`."
      ]
    },
    {
      "cell_type": "code",
      "metadata": {
        "id": "XJC_VcytGt1U",
        "colab_type": "code",
        "outputId": "1981dde6-2e30-4013-dbd2-e7cae1c497e4",
        "colab": {}
      },
      "source": [
        "accuracy = torch.mean(equals.type(torch.FloatTensor))\n",
        "print(f'Accuracy: {accuracy.item()*100}%')"
      ],
      "execution_count": 0,
      "outputs": [
        {
          "output_type": "stream",
          "text": [
            "Accuracy: 7.8125%\n"
          ],
          "name": "stdout"
        }
      ]
    },
    {
      "cell_type": "markdown",
      "metadata": {
        "id": "jQgiw7B9Gt1f",
        "colab_type": "text"
      },
      "source": [
        "The network is untrained so it's making random guesses and we should see an accuracy around 10%. Now let's train our network and include our validation pass so we can measure how well the network is performing on the test set. Since we're not updating our parameters in the validation pass, we can speed up our code by turning off gradients using `torch.no_grad()`:\n",
        "\n",
        "```python\n",
        "# turn off gradients\n",
        "with torch.no_grad():\n",
        "    # validation pass here\n",
        "    for images, labels in testloader:\n",
        "        ...\n",
        "```\n",
        "\n",
        ">**Exercise:** Implement the validation loop below and print out the total accuracy after the loop. You can largely copy and paste the code from above, but I suggest typing it in because writing it out yourself is essential for building the skill. In general you'll always learn more by typing it rather than copy-pasting. You should be able to get an accuracy above 80%."
      ]
    },
    {
      "cell_type": "code",
      "metadata": {
        "id": "_98uJll4Gt1i",
        "colab_type": "code",
        "outputId": "ab76be30-0796-4ce3-9234-4d148d0b9930",
        "colab": {
          "base_uri": "https://localhost:8080/",
          "height": 1000
        }
      },
      "source": [
        "model = Classifier()\n",
        "criterion = nn.NLLLoss()\n",
        "optimizer = optim.Adam(model.parameters(), lr=0.003)\n",
        "\n",
        "epochs = 30\n",
        "steps = 0\n",
        "\n",
        "train_losses, test_losses = [], []\n",
        "for e in range(epochs):\n",
        "    running_loss = 0\n",
        "    for images, labels in trainloader:\n",
        "        \n",
        "        optimizer.zero_grad()\n",
        "        \n",
        "        log_ps = model(images)\n",
        "        loss = criterion(log_ps, labels)\n",
        "        loss.backward()\n",
        "        optimizer.step()\n",
        "        \n",
        "        running_loss += loss.item()\n",
        "        \n",
        "    else:\n",
        "        ## TODO: Implement the validation pass and print out the validation accuracy\n",
        "        test_loss = 0\n",
        "        accuracy = 0\n",
        "        \n",
        "        # Turn off gradients for validation, saves memory and computations\n",
        "        with torch.no_grad():\n",
        "            for images, labels in testloader:\n",
        "                log_ps = model(images)\n",
        "                test_loss += criterion(log_ps, labels)\n",
        "                \n",
        "                ps = torch.exp(log_ps)\n",
        "                top_p, top_class = ps.topk(1, dim=1)\n",
        "                equals = top_class == labels.view(*top_class.shape)\n",
        "                accuracy += torch.mean(equals.type(torch.FloatTensor))\n",
        "                \n",
        "        train_losses.append(running_loss/len(trainloader))\n",
        "        test_losses.append(test_loss/len(testloader))\n",
        "\n",
        "        print(\"Epoch: {}/{}.. \".format(e+1, epochs),\n",
        "              \"Training Loss: {:.3f}.. \".format(running_loss/len(trainloader)),\n",
        "              \"Test Loss: {:.3f}.. \".format(test_loss/len(testloader)),\n",
        "              \"Test Accuracy: {:.3f}\".format(accuracy/len(testloader)))\n",
        "        print(f'Accuracy: {accuracy.item()*100}%')"
      ],
      "execution_count": 0,
      "outputs": [
        {
          "output_type": "stream",
          "text": [
            "Epoch: 1/30..  Training Loss: 0.515..  Test Loss: 0.441..  Test Accuracy: 0.844\n",
            "Accuracy: 13248.4375%\n",
            "Epoch: 2/30..  Training Loss: 0.391..  Test Loss: 0.445..  Test Accuracy: 0.840\n",
            "Accuracy: 13184.375%\n",
            "Epoch: 3/30..  Training Loss: 0.358..  Test Loss: 0.390..  Test Accuracy: 0.863\n",
            "Accuracy: 13554.6875%\n",
            "Epoch: 4/30..  Training Loss: 0.332..  Test Loss: 0.397..  Test Accuracy: 0.856\n",
            "Accuracy: 13432.8125%\n",
            "Epoch: 5/30..  Training Loss: 0.319..  Test Loss: 0.375..  Test Accuracy: 0.866\n",
            "Accuracy: 13596.875%\n",
            "Epoch: 6/30..  Training Loss: 0.308..  Test Loss: 0.376..  Test Accuracy: 0.865\n",
            "Accuracy: 13584.375%\n",
            "Epoch: 7/30..  Training Loss: 0.290..  Test Loss: 0.357..  Test Accuracy: 0.875\n",
            "Accuracy: 13734.375%\n",
            "Epoch: 8/30..  Training Loss: 0.282..  Test Loss: 0.363..  Test Accuracy: 0.876\n",
            "Accuracy: 13754.6875%\n",
            "Epoch: 9/30..  Training Loss: 0.274..  Test Loss: 0.365..  Test Accuracy: 0.876\n",
            "Accuracy: 13751.5625%\n",
            "Epoch: 10/30..  Training Loss: 0.270..  Test Loss: 0.374..  Test Accuracy: 0.875\n",
            "Accuracy: 13735.9375%\n",
            "Epoch: 11/30..  Training Loss: 0.262..  Test Loss: 0.379..  Test Accuracy: 0.871\n",
            "Accuracy: 13676.5625%\n",
            "Epoch: 12/30..  Training Loss: 0.256..  Test Loss: 0.364..  Test Accuracy: 0.877\n",
            "Accuracy: 13771.875%\n",
            "Epoch: 13/30..  Training Loss: 0.248..  Test Loss: 0.356..  Test Accuracy: 0.876\n",
            "Accuracy: 13756.25%\n",
            "Epoch: 14/30..  Training Loss: 0.242..  Test Loss: 0.384..  Test Accuracy: 0.872\n",
            "Accuracy: 13692.1875%\n",
            "Epoch: 15/30..  Training Loss: 0.239..  Test Loss: 0.361..  Test Accuracy: 0.881\n",
            "Accuracy: 13829.6875%\n",
            "Epoch: 16/30..  Training Loss: 0.235..  Test Loss: 0.400..  Test Accuracy: 0.875\n",
            "Accuracy: 13737.5%\n",
            "Epoch: 17/30..  Training Loss: 0.229..  Test Loss: 0.372..  Test Accuracy: 0.882\n",
            "Accuracy: 13853.125%\n",
            "Epoch: 18/30..  Training Loss: 0.228..  Test Loss: 0.375..  Test Accuracy: 0.881\n",
            "Accuracy: 13826.5625%\n",
            "Epoch: 19/30..  Training Loss: 0.222..  Test Loss: 0.396..  Test Accuracy: 0.877\n",
            "Accuracy: 13768.75%\n",
            "Epoch: 20/30..  Training Loss: 0.221..  Test Loss: 0.395..  Test Accuracy: 0.878\n",
            "Accuracy: 13785.9375%\n",
            "Epoch: 21/30..  Training Loss: 0.212..  Test Loss: 0.382..  Test Accuracy: 0.880\n",
            "Accuracy: 13821.875%\n",
            "Epoch: 22/30..  Training Loss: 0.208..  Test Loss: 0.381..  Test Accuracy: 0.880\n",
            "Accuracy: 13814.0625%\n",
            "Epoch: 23/30..  Training Loss: 0.207..  Test Loss: 0.409..  Test Accuracy: 0.880\n",
            "Accuracy: 13814.0625%\n",
            "Epoch: 24/30..  Training Loss: 0.202..  Test Loss: 0.417..  Test Accuracy: 0.879\n",
            "Accuracy: 13807.8125%\n",
            "Epoch: 25/30..  Training Loss: 0.198..  Test Loss: 0.407..  Test Accuracy: 0.883\n",
            "Accuracy: 13864.0625%\n",
            "Epoch: 26/30..  Training Loss: 0.198..  Test Loss: 0.421..  Test Accuracy: 0.872\n",
            "Accuracy: 13692.1875%\n",
            "Epoch: 27/30..  Training Loss: 0.190..  Test Loss: 0.401..  Test Accuracy: 0.877\n",
            "Accuracy: 13771.875%\n",
            "Epoch: 28/30..  Training Loss: 0.190..  Test Loss: 0.434..  Test Accuracy: 0.880\n",
            "Accuracy: 13820.3125%\n",
            "Epoch: 29/30..  Training Loss: 0.204..  Test Loss: 0.407..  Test Accuracy: 0.883\n",
            "Accuracy: 13867.1875%\n",
            "Epoch: 30/30..  Training Loss: 0.186..  Test Loss: 0.454..  Test Accuracy: 0.881\n",
            "Accuracy: 13835.9375%\n"
          ],
          "name": "stdout"
        }
      ]
    },
    {
      "cell_type": "code",
      "metadata": {
        "id": "imqTNHPnHAHe",
        "colab_type": "code",
        "colab": {}
      },
      "source": [
        "%matplotlib inline\n",
        "%config InlineBackend.figure_format = 'retina'\n",
        "\n",
        "import matplotlib.pyplot as plt"
      ],
      "execution_count": 0,
      "outputs": []
    },
    {
      "cell_type": "code",
      "metadata": {
        "id": "4EvCneSJHDX3",
        "colab_type": "code",
        "outputId": "4e346ee8-ce32-472a-9bee-936559bac77f",
        "colab": {
          "base_uri": "https://localhost:8080/",
          "height": 282
        }
      },
      "source": [
        "plt.plot(train_losses, label='Training loss')\n",
        "plt.plot(test_losses, label='Validation loss')\n",
        "plt.legend(frameon=False)"
      ],
      "execution_count": 0,
      "outputs": [
        {
          "output_type": "execute_result",
          "data": {
            "text/plain": [
              "<matplotlib.legend.Legend at 0x7f890fb73198>"
            ]
          },
          "metadata": {
            "tags": []
          },
          "execution_count": 5
        },
        {
          "output_type": "display_data",
          "data": {
            "image/png": "[encoded data removed]",
            "text/plain": [
              "<Figure size 432x288 with 1 Axes>"
            ]
          },
          "metadata": {
            "tags": [],
            "image/png": {
              "width": 380,
              "height": 248
            }
          }
        }
      ]
    },
    {
      "cell_type": "markdown",
      "metadata": {
        "id": "A5ViwPy5Gt1q",
        "colab_type": "text"
      },
      "source": [
        "## Overfitting\n",
        "\n",
        "If we look at the training and validation losses as we train the network, we can see a phenomenon known as overfitting.\n",
        "\n",
        "<img src='https://github.com/udacity/deep-learning-v2-pytorch/blob/master/intro-to-pytorch/assets/overfitting.png?raw=1' width=450px>\n",
        "\n",
        "The network learns the training set better and better, resulting in lower training losses. However, it starts having problems generalizing to data outside the training set leading to the validation loss increasing. The ultimate goal of any deep learning model is to make predictions on new data, so we should strive to get the lowest validation loss possible. One option is to use the version of the model with the lowest validation loss, here the one around 8-10 training epochs. This strategy is called *early-stopping*. In practice, you'd save the model frequently as you're training then later choose the model with the lowest validation loss.\n",
        "\n",
        "The most common method to reduce overfitting (outside of early-stopping) is *dropout*, where we randomly drop input units. This forces the network to share information between weights, increasing it's ability to generalize to new data. Adding dropout in PyTorch is straightforward using the [`nn.Dropout`](https://pytorch.org/docs/stable/nn.html#torch.nn.Dropout) module.\n",
        "\n",
        "```python\n",
        "class Classifier(nn.Module):\n",
        "    def __init__(self):\n",
        "        super().__init__()\n",
        "        self.fc1 = nn.Linear(784, 256)\n",
        "        self.fc2 = nn.Linear(256, 128)\n",
        "        self.fc3 = nn.Linear(128, 64)\n",
        "        self.fc4 = nn.Linear(64, 10)\n",
        "        \n",
        "        # Dropout module with 0.2 drop probability\n",
        "        self.dropout = nn.Dropout(p=0.2)\n",
        "        \n",
        "    def forward(self, x):\n",
        "        # make sure input tensor is flattened\n",
        "        x = x.view(x.shape[0], -1)\n",
        "        \n",
        "        # Now with dropout\n",
        "        x = self.dropout(F.relu(self.fc1(x)))\n",
        "        x = self.dropout(F.relu(self.fc2(x)))\n",
        "        x = self.dropout(F.relu(self.fc3(x)))\n",
        "        \n",
        "        # output so no dropout here\n",
        "        x = F.log_softmax(self.fc4(x), dim=1)\n",
        "        \n",
        "        return x\n",
        "```\n",
        "\n",
        "During training we want to use dropout to prevent overfitting, but during inference we want to use the entire network. So, we need to turn off dropout during validation, testing, and whenever we're using the network to make predictions. To do this, you use `model.eval()`. This sets the model to evaluation mode where the dropout probability is 0. You can turn dropout back on by setting the model to train mode with `model.train()`. In general, the pattern for the validation loop will look like this, where you turn off gradients, set the model to evaluation mode, calculate the validation loss and metric, then set the model back to train mode.\n",
        "\n",
        "```python\n",
        "# turn off gradients\n",
        "with torch.no_grad():\n",
        "    \n",
        "    # set model to evaluation mode\n",
        "    model.eval()\n",
        "    \n",
        "    # validation pass here\n",
        "    for images, labels in testloader:\n",
        "        ...\n",
        "\n",
        "# set model back to train mode\n",
        "model.train()\n",
        "```"
      ]
    },
    {
      "cell_type": "markdown",
      "metadata": {
        "id": "nX4v5ryJGt1s",
        "colab_type": "text"
      },
      "source": [
        "> **Exercise:** Add dropout to your model and train it on Fashion-MNIST again. See if you can get a lower validation loss or higher accuracy."
      ]
    },
    {
      "cell_type": "code",
      "metadata": {
        "id": "uvHiP_AVGt1u",
        "colab_type": "code",
        "colab": {}
      },
      "source": [
        "## TODO: Define your model with dropout added\n",
        "\n",
        "class Classifier(nn.Module):\n",
        "    def __init__(self):\n",
        "        super().__init__()\n",
        "        self.fc1=nn.Linear(784,256)\n",
        "        self.fc2=nn.Linear(256,128)\n",
        "        self.fc3=nn.Linear(128,64)\n",
        "        self.fc4=nn.Linear(64,10)\n",
        "        self.dropout=nn.Dropout(p=0.2)\n",
        "\n",
        "    def forward(self,x):\n",
        "        x=x.view(x.shape[0],-1)\n",
        "        x=self.dropout(F.relu(self.fc1(x)))\n",
        "        x=self.dropout(F.relu(self.fc2(x)))\n",
        "        x=self.dropout(F.relu(self.fc3(x)))\n",
        "        x=F.log_softmax(self.fc4(x),dim=1)\n",
        "        return x\n",
        "\n",
        "model = Classifier()\n",
        "criterion = nn.NLLLoss()\n",
        "optimizer = optim.Adam(model.parameters(), lr=0.003)\n",
        "\n"
      ],
      "execution_count": 0,
      "outputs": []
    },
    {
      "cell_type": "code",
      "metadata": {
        "id": "brbgWBI7Gt14",
        "colab_type": "code",
        "outputId": "2fd36e84-45c7-48cc-ebe0-63263a1ee1f6",
        "colab": {
          "base_uri": "https://localhost:8080/",
          "height": 1000
        }
      },
      "source": [
        "## TODO: Train your model with dropout, and monitor the training progress with the validation loss and accuracy\n",
        "epochs=30\n",
        "train_losses,test_losses=[],[]\n",
        "for e in range(epochs):\n",
        "    running_loss=0\n",
        "    for images, labels in trainloader:\n",
        "        optimizer.zero_grad()\n",
        "        log_ps=model(images)\n",
        "        loss=criterion(log_ps,labels)\n",
        "        loss.backward\n",
        "        optimizer.step()\n",
        "\n",
        "        running_loss +=loss.item()\n",
        "    else: \n",
        "        test_loss=0\n",
        "        accuracy=0   \n",
        "        with torch.no_grad():\n",
        "            model.eval()\n",
        "            for images, labels in testloader:\n",
        "                log_ps=model(images)\n",
        "                loss=criterion(log_ps,labels)\n",
        "\n",
        "                ps=torch.exp(log_ps)\n",
        "                top_p, top_class = ps.topk(1, dim=1)\n",
        "                equals = top_class == labels.view(*top_class.shape)\n",
        "                accuracy += torch.mean(equals.type(torch.FloatTensor))\n",
        "                \n",
        "        train_losses.append(running_loss/len(trainloader))\n",
        "        test_losses.append(test_loss/len(testloader))\n",
        "\n",
        "        print(\"Epoch: {}/{}.. \".format(e+1, epochs),\n",
        "              \"Training Loss: {:.3f}.. \".format(running_loss/len(trainloader)),\n",
        "              \"Test Loss: {:.3f}.. \".format(test_loss/len(testloader)),\n",
        "              \"Test Accuracy: {:.3f}\".format(accuracy/len(testloader)))\n",
        "        print(f'Accuracy: {accuracy.item()*100}%')\n",
        "\n",
        "        model.train()\n"
      ],
      "execution_count": 0,
      "outputs": [
        {
          "output_type": "stream",
          "text": [
            "Epoch: 1/30..  Training Loss: 2.308..  Test Loss: 0.000..  Test Accuracy: 0.096\n",
            "Accuracy: 1507.8125%\n",
            "Epoch: 2/30..  Training Loss: 2.308..  Test Loss: 0.000..  Test Accuracy: 0.096\n",
            "Accuracy: 1503.125%\n",
            "Epoch: 3/30..  Training Loss: 2.308..  Test Loss: 0.000..  Test Accuracy: 0.096\n",
            "Accuracy: 1512.5%\n",
            "Epoch: 4/30..  Training Loss: 2.308..  Test Loss: 0.000..  Test Accuracy: 0.096\n",
            "Accuracy: 1507.8125%\n",
            "Epoch: 5/30..  Training Loss: 2.308..  Test Loss: 0.000..  Test Accuracy: 0.097\n",
            "Accuracy: 1526.5625%\n",
            "Epoch: 6/30..  Training Loss: 2.308..  Test Loss: 0.000..  Test Accuracy: 0.095\n",
            "Accuracy: 1498.4375%\n",
            "Epoch: 7/30..  Training Loss: 2.308..  Test Loss: 0.000..  Test Accuracy: 0.096\n",
            "Accuracy: 1503.125%\n",
            "Epoch: 8/30..  Training Loss: 2.308..  Test Loss: 0.000..  Test Accuracy: 0.096\n",
            "Accuracy: 1512.5%\n",
            "Epoch: 9/30..  Training Loss: 2.308..  Test Loss: 0.000..  Test Accuracy: 0.095\n",
            "Accuracy: 1498.4375%\n",
            "Epoch: 10/30..  Training Loss: 2.308..  Test Loss: 0.000..  Test Accuracy: 0.096\n",
            "Accuracy: 1503.125%\n",
            "Epoch: 11/30..  Training Loss: 2.308..  Test Loss: 0.000..  Test Accuracy: 0.095\n",
            "Accuracy: 1498.4375%\n",
            "Epoch: 12/30..  Training Loss: 2.308..  Test Loss: 0.000..  Test Accuracy: 0.096\n",
            "Accuracy: 1503.125%\n",
            "Epoch: 13/30..  Training Loss: 2.308..  Test Loss: 0.000..  Test Accuracy: 0.096\n",
            "Accuracy: 1503.125%\n",
            "Epoch: 14/30..  Training Loss: 2.308..  Test Loss: 0.000..  Test Accuracy: 0.096\n",
            "Accuracy: 1503.125%\n",
            "Epoch: 15/30..  Training Loss: 2.308..  Test Loss: 0.000..  Test Accuracy: 0.096\n",
            "Accuracy: 1503.125%\n",
            "Epoch: 16/30..  Training Loss: 2.307..  Test Loss: 0.000..  Test Accuracy: 0.095\n",
            "Accuracy: 1498.4375%\n",
            "Epoch: 17/30..  Training Loss: 2.308..  Test Loss: 0.000..  Test Accuracy: 0.095\n",
            "Accuracy: 1498.4375%\n",
            "Epoch: 18/30..  Training Loss: 2.308..  Test Loss: 0.000..  Test Accuracy: 0.096\n",
            "Accuracy: 1507.8125%\n",
            "Epoch: 19/30..  Training Loss: 2.308..  Test Loss: 0.000..  Test Accuracy: 0.096\n",
            "Accuracy: 1503.125%\n",
            "Epoch: 20/30..  Training Loss: 2.308..  Test Loss: 0.000..  Test Accuracy: 0.096\n",
            "Accuracy: 1512.5%\n",
            "Epoch: 21/30..  Training Loss: 2.308..  Test Loss: 0.000..  Test Accuracy: 0.096\n",
            "Accuracy: 1507.8125%\n",
            "Epoch: 22/30..  Training Loss: 2.308..  Test Loss: 0.000..  Test Accuracy: 0.096\n",
            "Accuracy: 1503.125%\n",
            "Epoch: 23/30..  Training Loss: 2.308..  Test Loss: 0.000..  Test Accuracy: 0.096\n",
            "Accuracy: 1507.8125%\n",
            "Epoch: 24/30..  Training Loss: 2.308..  Test Loss: 0.000..  Test Accuracy: 0.096\n",
            "Accuracy: 1512.5%\n",
            "Epoch: 25/30..  Training Loss: 2.308..  Test Loss: 0.000..  Test Accuracy: 0.096\n",
            "Accuracy: 1503.125%\n",
            "Epoch: 26/30..  Training Loss: 2.308..  Test Loss: 0.000..  Test Accuracy: 0.096\n",
            "Accuracy: 1507.8125%\n",
            "Epoch: 27/30..  Training Loss: 2.308..  Test Loss: 0.000..  Test Accuracy: 0.096\n",
            "Accuracy: 1512.5%\n",
            "Epoch: 28/30..  Training Loss: 2.308..  Test Loss: 0.000..  Test Accuracy: 0.096\n",
            "Accuracy: 1503.125%\n",
            "Epoch: 29/30..  Training Loss: 2.308..  Test Loss: 0.000..  Test Accuracy: 0.096\n",
            "Accuracy: 1507.8125%\n",
            "Epoch: 30/30..  Training Loss: 2.308..  Test Loss: 0.000..  Test Accuracy: 0.096\n",
            "Accuracy: 1512.5%\n"
          ],
          "name": "stdout"
        }
      ]
    },
    {
      "cell_type": "markdown",
      "metadata": {
        "id": "YIiRelxnGt2A",
        "colab_type": "text"
      },
      "source": [
        "## Inference\n",
        "\n",
        "Now that the model is trained, we can use it for inference. We've done this before, but now we need to remember to set the model in inference mode with `model.eval()`. You'll also want to turn off autograd with the `torch.no_grad()` context."
      ]
    },
    {
      "cell_type": "code",
      "metadata": {
        "id": "0TPJLKC_Gt2D",
        "colab_type": "code",
        "outputId": "e1a25cd5-a0d0-4cd9-833d-f09af050217b",
        "colab": {}
      },
      "source": [
        "# Import helper module (should be in the repo)\n",
        "import helper\n",
        "\n",
        "# Test out your network!\n",
        "\n",
        "model.eval()\n",
        "\n",
        "dataiter = iter(testloader)\n",
        "images, labels = dataiter.next()\n",
        "img = images[0]\n",
        "# Convert 2D image to 1D vector\n",
        "img = img.view(1, 784)\n",
        "\n",
        "# Calculate the class probabilities (softmax) for img\n",
        "with torch.no_grad():\n",
        "    output = model.forward(img)\n",
        "\n",
        "ps = torch.exp(output)\n",
        "\n",
        "# Plot the image and probabilities\n",
        "helper.view_classify(img.view(1, 28, 28), ps, version='Fashion')"
      ],
      "execution_count": 0,
      "outputs": [
        {
          "output_type": "display_data",
          "data": {
            "image/png": "[encoded data removed]",
            "text/plain": [
              "<Figure size 432x648 with 2 Axes>"
            ]
          },
          "metadata": {
            "tags": [],
            "image/png": {
              "height": 206,
              "width": 423
            },
            "needs_background": "light"
          }
        }
      ]
    },
    {
      "cell_type": "markdown",
      "metadata": {
        "id": "khy2kaG5Gt2L",
        "colab_type": "text"
      },
      "source": [
        "## Next Up!\n",
        "\n",
        "In the next part, I'll show you how to save your trained models. In general, you won't want to train a model everytime you need it. Instead, you'll train once, save it, then load the model when you want to train more or use if for inference."
      ]
    }
  ]
}